{
  "nbformat": 4,
  "nbformat_minor": 0,
  "metadata": {
    "colab": {
      "name": "Untitled1.ipynb",
      "provenance": []
    },
    "kernelspec": {
      "name": "python3",
      "display_name": "Python 3"
    }
  },
  "cells": [
    {
      "cell_type": "markdown",
      "metadata": {
        "id": "gED3GxQ0J4TK"
      },
      "source": [
        "This is the first assignment of data science capstone.\n"
      ]
    },
    {
      "cell_type": "code",
      "metadata": {
        "id": "dMVSOlRbKFiR",
        "outputId": "c5da1e73-6387-4157-9987-905f9a6e0600",
        "colab": {
          "base_uri": "https://localhost:8080/"
        }
      },
      "source": [
        "import pandas as pd\n",
        "import numpy as np\n",
        "\n",
        "print('Hello ! Capstone project')"
      ],
      "execution_count": 3,
      "outputs": [
        {
          "output_type": "stream",
          "text": [
            "Hello ! Capstone project\n"
          ],
          "name": "stdout"
        }
      ]
    }
  ]
}